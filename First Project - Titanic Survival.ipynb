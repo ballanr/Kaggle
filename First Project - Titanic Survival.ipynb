{
 "cells": [
  {
   "cell_type": "markdown",
   "metadata": {},
   "source": [
    "# First Project - Titanic Survival"
   ]
  },
  {
   "cell_type": "markdown",
   "metadata": {},
   "source": [
    "My first project working on Kaggle using data from the Titanic to determine survival of passengers (https://www.kaggle.com/c/titanic)."
   ]
  },
  {
   "cell_type": "markdown",
   "metadata": {},
   "source": [
    "## Table of Contents\n",
    "***\n",
    "* ### [1. Data Set](#dataset)\n",
    "    * [1.1 Obtaining the data](#obtain)\n",
    "    * [1.2 Reading the data](#reading)\n",
    "    * [1.3 Visualize the data](#visualize)\n",
    "* ### [2. Training](#training)\n",
    "    * [2.1 Creating a test set](#testset)\n",
    "    * [2.2 Visualize the data](#visualize2)\n",
    "    * [2.3 Correlation](#corr)\n",
    "* ### [3. Data Cleaning](#cleaning)\n",
    "    * [3.1 Missing Features](#missing)\n",
    "    * [3.2 Handling Text](#text)\n",
    "    * [3.3 wut](#nah)\n",
    "***"
   ]
  },
  {
   "cell_type": "markdown",
   "metadata": {},
   "source": [
    "## <a id = \"dataset\">1. Data Set</a>"
   ]
  }
 ],
 "metadata": {
  "kernelspec": {
   "display_name": "Python 3",
   "language": "python",
   "name": "python3"
  },
  "language_info": {
   "codemirror_mode": {
    "name": "ipython",
    "version": 3
   },
   "file_extension": ".py",
   "mimetype": "text/x-python",
   "name": "python",
   "nbconvert_exporter": "python",
   "pygments_lexer": "ipython3",
   "version": "3.7.2"
  }
 },
 "nbformat": 4,
 "nbformat_minor": 2
}
